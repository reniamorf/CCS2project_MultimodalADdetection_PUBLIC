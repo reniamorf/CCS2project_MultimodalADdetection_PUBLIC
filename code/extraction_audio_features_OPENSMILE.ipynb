{
  "cells": [
    {
      "cell_type": "markdown",
      "id": "1b87df73-11a2-40e4-8161-26fdcedaa1d3",
      "metadata": {
        "id": "1b87df73-11a2-40e4-8161-26fdcedaa1d3"
      },
      "source": [
        "**extraction of features with OpenSmile**"
      ]
    },
    {
      "cell_type": "code",
      "execution_count": null,
      "id": "6b76b151-eb48-4ba3-85c1-3de2619bcf79",
      "metadata": {
        "id": "6b76b151-eb48-4ba3-85c1-3de2619bcf79"
      },
      "outputs": [],
      "source": [
        "import os"
      ]
    },
    {
      "cell_type": "code",
      "execution_count": null,
      "id": "b455a272",
      "metadata": {
        "id": "b455a272"
      },
      "outputs": [],
      "source": [
        "import pandas as pd\n",
        "#path to your openSMILE executable (standalone version)\n",
        "opensmile_path = \"C:/Users/renia/Documents/IT/CCS2/opensmile/bin/SMILExtract\"\n",
        "\n",
        "#path to configuration file\n",
        "config_path = \"C:/Users/renia/Documents/IT/CCS2/opensmile/config/egemaps/v01a/eGeMAPSv01a.conf\"\n",
        "\n",
        "def extract_egemaps(audio_file, output_file):\n",
        "    \"\"\"\n",
        "    Extracts eGeMAPS features from an audio file.\n",
        "\n",
        "    Args:\n",
        "        audio_file (str): Path to the audio file (.wav format).\n",
        "        output_file (str): Path to save the extracted features (CSV format).\n",
        "    \"\"\"\n",
        "\n",
        "    command = f\"{opensmile_path} -C {config_path} -I {audio_file} -O {output_file} -fe eGeMAPS\"\n",
        "    os.system(command)\n",
        "    try:\n",
        "        df = pd.read_csv(output_file, sep=\"\\t\")\n",
        "        return df\n",
        "    except FileNotFoundError:\n",
        "        print(f\"Error: Output file '{output_file}' not found\")\n",
        "        return None\n",
        "\n",
        "\n",
        "# # Directory containing the audio files\n",
        "# directory = 'C:/Users/renia/Documents/IT/CCS2/ADReSSo21/diagnosis/train/audio/ad/'\n",
        "\n",
        "# #list of all files in the directory\n",
        "# all_files = os.listdir(directory)\n",
        "\n",
        "# #files that end with 'trimmed.wav'\n",
        "# trimmed_files = [file for file in all_files if file.endswith('trimmed.wav')]\n",
        "\n",
        "# for audio_file in trimmed_files:\n",
        "#     # Construct the full path to the audio file\n",
        "#     full_audio_path = os.path.join(directory, audio_file)\n",
        "\n",
        "#     # Create the output filename\n",
        "#     output_file = os.path.splitext(full_audio_path)[0] + \"_egemaps.csv\"\n",
        "\n",
        "#     # Extract features and optionally store in a DataFrame\n",
        "#     features_df = extract_egemaps(full_audio_path, output_file)\n",
        "\n",
        "#     if features_df is not None:\n",
        "#         # Process or analyze the extracted features (e.g., visualization, machine learning)\n",
        "#         print(f\"eGeMAPS features extracted for '{full_audio_path}' and saved to '{output_file}'\")"
      ]
    },
    {
      "cell_type": "code",
      "execution_count": null,
      "id": "c1e083ca",
      "metadata": {
        "scrolled": false,
        "id": "c1e083ca"
      },
      "outputs": [],
      "source": [
        "# #extracting the audio features/egemaps for the cognitive normal/control group\n",
        "# #Directory containing the audio files for the cn group\n",
        "# directory_cn = 'C:/Users/renia/Documents/IT/CCS2/ADReSSo21/diagnosis/train/audio/cn/'\n",
        "\n",
        "# #list of all files in the directory\n",
        "# all_files_cn = os.listdir(directory_cn)\n",
        "\n",
        "# for audio_file_cn in all_files_cn:\n",
        "#     # Construct the full path to the audio file\n",
        "#     full_audio_path = os.path.join(directory_cn, audio_file_cn)\n",
        "\n",
        "#     # Create the output filename\n",
        "#     output_file = os.path.splitext(full_audio_path)[0] + \"_egemaps.csv\"\n",
        "\n",
        "#     # Extract features and optionally store in a DataFrame\n",
        "#     features_df_cn = extract_egemaps(full_audio_path, output_file)\n",
        "\n",
        "#     if features_df is not None:\n",
        "#         # Process or analyze the extracted features (e.g., visualization, machine learning)\n",
        "#         print(f\"eGeMAPS features extracted for '{full_audio_path}' and saved to '{output_file}'\")\n"
      ]
    },
    {
      "cell_type": "code",
      "execution_count": null,
      "id": "20930c61",
      "metadata": {
        "id": "20930c61",
        "outputId": "fe01205c-4c3c-4e32-edff-5ff600d4f67d"
      },
      "outputs": [
        {
          "name": "stdout",
          "output_type": "stream",
          "text": [
            "eGeMAPS features extracted for 'C:/Users/renia/Documents/IT/CCS2/ADdata_externalValidation/ad_audio_external_valid/Baycrest10285trimmed.wav' and saved to 'C:/Users/renia/Documents/IT/CCS2/ADdata_externalValidation/ad_audio_external_valid/Baycrest10285trimmed_egemaps.csv'\n",
            "eGeMAPS features extracted for 'C:/Users/renia/Documents/IT/CCS2/ADdata_externalValidation/ad_audio_external_valid/Baycrest11014trimmed.wav' and saved to 'C:/Users/renia/Documents/IT/CCS2/ADdata_externalValidation/ad_audio_external_valid/Baycrest11014trimmed_egemaps.csv'\n",
            "eGeMAPS features extracted for 'C:/Users/renia/Documents/IT/CCS2/ADdata_externalValidation/ad_audio_external_valid/Baycrest12756trimmed.wav' and saved to 'C:/Users/renia/Documents/IT/CCS2/ADdata_externalValidation/ad_audio_external_valid/Baycrest12756trimmed_egemaps.csv'\n",
            "eGeMAPS features extracted for 'C:/Users/renia/Documents/IT/CCS2/ADdata_externalValidation/ad_audio_external_valid/Baycrest12828trimmed.wav' and saved to 'C:/Users/renia/Documents/IT/CCS2/ADdata_externalValidation/ad_audio_external_valid/Baycrest12828trimmed_egemaps.csv'\n",
            "eGeMAPS features extracted for 'C:/Users/renia/Documents/IT/CCS2/ADdata_externalValidation/ad_audio_external_valid/Baycrest12829trimmed.wav' and saved to 'C:/Users/renia/Documents/IT/CCS2/ADdata_externalValidation/ad_audio_external_valid/Baycrest12829trimmed_egemaps.csv'\n",
            "eGeMAPS features extracted for 'C:/Users/renia/Documents/IT/CCS2/ADdata_externalValidation/ad_audio_external_valid/Baycrest13074trimmed.wav' and saved to 'C:/Users/renia/Documents/IT/CCS2/ADdata_externalValidation/ad_audio_external_valid/Baycrest13074trimmed_egemaps.csv'\n",
            "eGeMAPS features extracted for 'C:/Users/renia/Documents/IT/CCS2/ADdata_externalValidation/ad_audio_external_valid/Baycrest13156trimmed.wav' and saved to 'C:/Users/renia/Documents/IT/CCS2/ADdata_externalValidation/ad_audio_external_valid/Baycrest13156trimmed_egemaps.csv'\n",
            "eGeMAPS features extracted for 'C:/Users/renia/Documents/IT/CCS2/ADdata_externalValidation/ad_audio_external_valid/Baycrest13187trimmed.wav' and saved to 'C:/Users/renia/Documents/IT/CCS2/ADdata_externalValidation/ad_audio_external_valid/Baycrest13187trimmed_egemaps.csv'\n",
            "eGeMAPS features extracted for 'C:/Users/renia/Documents/IT/CCS2/ADdata_externalValidation/ad_audio_external_valid/Baycrest13188trimmed.wav' and saved to 'C:/Users/renia/Documents/IT/CCS2/ADdata_externalValidation/ad_audio_external_valid/Baycrest13188trimmed_egemaps.csv'\n",
            "eGeMAPS features extracted for 'C:/Users/renia/Documents/IT/CCS2/ADdata_externalValidation/ad_audio_external_valid/Baycrest13196trimmed.wav' and saved to 'C:/Users/renia/Documents/IT/CCS2/ADdata_externalValidation/ad_audio_external_valid/Baycrest13196trimmed_egemaps.csv'\n"
          ]
        }
      ],
      "source": [
        "#extracting the audio features/egemaps for the dementia group (EXTERNAL VALIDATION DS)\n",
        "directory_ad_ev = 'C:/Users/renia/Documents/IT/CCS2/ADdata_externalValidation/ad_audio_external_valid/'\n",
        "\n",
        "# Get a list of all files in the directory\n",
        "all_files = os.listdir(directory_ad_ev)\n",
        "\n",
        "# Filter files that end with 'trimmed.wav'\n",
        "trimmed_files = [file for file in all_files if file.endswith('trimmed.wav')]\n",
        "\n",
        "for audio_file in trimmed_files:\n",
        "    full_audio_path = os.path.join(directory_ad_ev, audio_file)\n",
        "    output_file = os.path.splitext(full_audio_path)[0] + \"_egemaps.csv\"\n",
        "    features_df = extract_egemaps(full_audio_path, output_file)\n",
        "\n",
        "    if features_df is not None:\n",
        "        # Process or analyze the extracted features (e.g., visualization, machine learning)\n",
        "        print(f\"eGeMAPS features extracted for '{full_audio_path}' and saved to '{output_file}'\")"
      ]
    },
    {
      "cell_type": "code",
      "execution_count": null,
      "id": "ce841892",
      "metadata": {
        "id": "ce841892",
        "outputId": "cf61b4ea-e933-4b0f-87f1-30eb36f4afb6"
      },
      "outputs": [
        {
          "name": "stdout",
          "output_type": "stream",
          "text": [
            "eGeMAPS features extracted for 'C:/Users/renia/Documents/IT/CCS2/ADdata_externalValidation/rawaudio_cn/Baycrest10306a.wav' and saved to 'C:/Users/renia/Documents/IT/CCS2/ADdata_externalValidation/rawaudio_cn/Baycrest10306a_egemaps.csv'\n",
            "eGeMAPS features extracted for 'C:/Users/renia/Documents/IT/CCS2/ADdata_externalValidation/rawaudio_cn/Baycrest10347a.wav' and saved to 'C:/Users/renia/Documents/IT/CCS2/ADdata_externalValidation/rawaudio_cn/Baycrest10347a_egemaps.csv'\n",
            "eGeMAPS features extracted for 'C:/Users/renia/Documents/IT/CCS2/ADdata_externalValidation/rawaudio_cn/Baycrest10599a.wav' and saved to 'C:/Users/renia/Documents/IT/CCS2/ADdata_externalValidation/rawaudio_cn/Baycrest10599a_egemaps.csv'\n",
            "eGeMAPS features extracted for 'C:/Users/renia/Documents/IT/CCS2/ADdata_externalValidation/rawaudio_cn/Baycrest10631a.wav' and saved to 'C:/Users/renia/Documents/IT/CCS2/ADdata_externalValidation/rawaudio_cn/Baycrest10631a_egemaps.csv'\n",
            "eGeMAPS features extracted for 'C:/Users/renia/Documents/IT/CCS2/ADdata_externalValidation/rawaudio_cn/Baycrest10668a.wav' and saved to 'C:/Users/renia/Documents/IT/CCS2/ADdata_externalValidation/rawaudio_cn/Baycrest10668a_egemaps.csv'\n"
          ]
        }
      ],
      "source": [
        "#extracting the audio features/egemaps for the cognitive healthy/control group (EXTERNAL VALIDATION DS)\n",
        "directory_cn_ev = 'C:/Users/renia/Documents/IT/CCS2/ADdata_externalValidation/rawaudio_cn/'\n",
        "\n",
        "# Get a list of all files in the directory\n",
        "all_files = os.listdir(directory_cn_ev)\n",
        "\n",
        "for audio_file in all_files:\n",
        "    full_audio_path = os.path.join(directory_cn_ev, audio_file)\n",
        "    output_file = os.path.splitext(full_audio_path)[0] + \"_egemaps.csv\"\n",
        "    features_df = extract_egemaps(full_audio_path, output_file)\n",
        "\n",
        "    if features_df is not None:\n",
        "        # Process or analyze the extracted features (e.g., visualization, machine learning)\n",
        "        print(f\"eGeMAPS features extracted for '{full_audio_path}' and saved to '{output_file}'\")"
      ]
    },
    {
      "cell_type": "code",
      "execution_count": null,
      "id": "0b28d0c0",
      "metadata": {
        "id": "0b28d0c0"
      },
      "outputs": [],
      "source": []
    }
  ],
  "metadata": {
    "kernelspec": {
      "display_name": "Python 3 (ipykernel)",
      "language": "python",
      "name": "python3"
    },
    "language_info": {
      "codemirror_mode": {
        "name": "ipython",
        "version": 3
      },
      "file_extension": ".py",
      "mimetype": "text/x-python",
      "name": "python",
      "nbconvert_exporter": "python",
      "pygments_lexer": "ipython3",
      "version": "3.11.5"
    },
    "colab": {
      "provenance": []
    }
  },
  "nbformat": 4,
  "nbformat_minor": 5
}